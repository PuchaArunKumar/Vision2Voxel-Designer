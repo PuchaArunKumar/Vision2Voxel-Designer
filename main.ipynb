{
 "cells": [
  {
   "cell_type": "markdown",
   "metadata": {},
   "source": [
    "## Step 1: Image Generation\n",
    "\n",
    "**Goal:**  \n",
    "Use Generative AI models to create a visual representation of the user's product design based on their input prompt.\n",
    "\n",
    "---\n",
    "\n",
    "### How It Works:\n",
    "\n",
    "#### 1. **Prompt Understanding**\n",
    "- Utilize NLP models such as **BERT** or **RoBERTa** to process and understand the user's input prompt.  \n",
    "- Example: For the prompt _\"Design a car for a person with one leg\"_, the NLP model extracts key information to guide the generation process.\n",
    "\n",
    "#### 2. **Generative AI for Visualization**\n",
    "- The processed input is passed to a **Generative AI model** (e.g., Stable Diffusion, DALL·E) to create a visual output tailored to the user's requirements.  \n",
    "- The AI model takes into account specific design requirements, accessibility needs, and aesthetic preferences.\n",
    "\n",
    "---\n",
    "\n",
    "**Key Benefits:**\n",
    "- Generates tailored, visually accurate designs based on user input.\n",
    "- Streamlines the design process for specialized user needs.\n"
   ]
  },
  {
   "cell_type": "code",
   "execution_count": null,
   "metadata": {},
   "outputs": [
    {
     "name": "stdout",
     "output_type": "stream",
     "text": [
      "Requirement already satisfied: torch in c:\\users\\bashe\\appdata\\local\\programs\\python\\python312\\lib\\site-packages (2.5.1)\n",
      "Requirement already satisfied: torchvision in c:\\users\\bashe\\appdata\\local\\programs\\python\\python312\\lib\\site-packages (0.20.1)\n",
      "Requirement already satisfied: transformers in c:\\users\\bashe\\appdata\\local\\programs\\python\\python312\\lib\\site-packages (4.48.1)\n",
      "Requirement already satisfied: diffusers in c:\\users\\bashe\\appdata\\local\\programs\\python\\python312\\lib\\site-packages (0.32.2)\n",
      "Requirement already satisfied: accelerate in c:\\users\\bashe\\appdata\\local\\programs\\python\\python312\\lib\\site-packages (1.3.0)\n",
      "Requirement already satisfied: matplotlib in c:\\users\\bashe\\appdata\\local\\programs\\python\\python312\\lib\\site-packages (3.10.0)\n",
      "Requirement already satisfied: trimesh in c:\\users\\bashe\\appdata\\local\\programs\\python\\python312\\lib\\site-packages (4.6.0)\n",
      "Requirement already satisfied: scikit-image in c:\\users\\bashe\\appdata\\local\\programs\\python\\python312\\lib\\site-packages (0.25.1)\n",
      "Requirement already satisfied: filelock in c:\\users\\bashe\\appdata\\local\\programs\\python\\python312\\lib\\site-packages (from torch) (3.17.0)\n",
      "Requirement already satisfied: typing-extensions>=4.8.0 in c:\\users\\bashe\\appdata\\local\\programs\\python\\python312\\lib\\site-packages (from torch) (4.12.2)\n",
      "Requirement already satisfied: networkx in c:\\users\\bashe\\appdata\\local\\programs\\python\\python312\\lib\\site-packages (from torch) (3.4.2)\n",
      "Requirement already satisfied: jinja2 in c:\\users\\bashe\\appdata\\local\\programs\\python\\python312\\lib\\site-packages (from torch) (3.1.5)\n",
      "Requirement already satisfied: fsspec in c:\\users\\bashe\\appdata\\local\\programs\\python\\python312\\lib\\site-packages (from torch) (2024.12.0)\n",
      "Requirement already satisfied: setuptools in c:\\users\\bashe\\appdata\\local\\programs\\python\\python312\\lib\\site-packages (from torch) (75.8.0)\n",
      "Requirement already satisfied: sympy==1.13.1 in c:\\users\\bashe\\appdata\\local\\programs\\python\\python312\\lib\\site-packages (from torch) (1.13.1)\n",
      "Requirement already satisfied: mpmath<1.4,>=1.1.0 in c:\\users\\bashe\\appdata\\local\\programs\\python\\python312\\lib\\site-packages (from sympy==1.13.1->torch) (1.3.0)\n",
      "Requirement already satisfied: numpy in c:\\users\\bashe\\appdata\\local\\programs\\python\\python312\\lib\\site-packages (from torchvision) (2.2.2)\n",
      "Requirement already satisfied: pillow!=8.3.*,>=5.3.0 in c:\\users\\bashe\\appdata\\local\\programs\\python\\python312\\lib\\site-packages (from torchvision) (11.1.0)\n",
      "Requirement already satisfied: huggingface-hub<1.0,>=0.24.0 in c:\\users\\bashe\\appdata\\local\\programs\\python\\python312\\lib\\site-packages (from transformers) (0.27.1)\n",
      "Requirement already satisfied: packaging>=20.0 in c:\\users\\bashe\\appdata\\roaming\\python\\python312\\site-packages (from transformers) (24.2)\n",
      "Requirement already satisfied: pyyaml>=5.1 in c:\\users\\bashe\\appdata\\local\\programs\\python\\python312\\lib\\site-packages (from transformers) (6.0.2)\n",
      "Requirement already satisfied: regex!=2019.12.17 in c:\\users\\bashe\\appdata\\local\\programs\\python\\python312\\lib\\site-packages (from transformers) (2024.11.6)\n",
      "Requirement already satisfied: requests in c:\\users\\bashe\\appdata\\local\\programs\\python\\python312\\lib\\site-packages (from transformers) (2.32.3)\n",
      "Requirement already satisfied: tokenizers<0.22,>=0.21 in c:\\users\\bashe\\appdata\\local\\programs\\python\\python312\\lib\\site-packages (from transformers) (0.21.0)\n",
      "Requirement already satisfied: safetensors>=0.4.1 in c:\\users\\bashe\\appdata\\local\\programs\\python\\python312\\lib\\site-packages (from transformers) (0.5.2)\n",
      "Requirement already satisfied: tqdm>=4.27 in c:\\users\\bashe\\appdata\\local\\programs\\python\\python312\\lib\\site-packages (from transformers) (4.67.1)\n",
      "Requirement already satisfied: importlib-metadata in c:\\users\\bashe\\appdata\\local\\programs\\python\\python312\\lib\\site-packages (from diffusers) (8.6.1)\n",
      "Requirement already satisfied: psutil in c:\\users\\bashe\\appdata\\roaming\\python\\python312\\site-packages (from accelerate) (6.1.1)\n",
      "Requirement already satisfied: contourpy>=1.0.1 in c:\\users\\bashe\\appdata\\local\\programs\\python\\python312\\lib\\site-packages (from matplotlib) (1.3.1)\n",
      "Requirement already satisfied: cycler>=0.10 in c:\\users\\bashe\\appdata\\local\\programs\\python\\python312\\lib\\site-packages (from matplotlib) (0.12.1)\n",
      "Requirement already satisfied: fonttools>=4.22.0 in c:\\users\\bashe\\appdata\\local\\programs\\python\\python312\\lib\\site-packages (from matplotlib) (4.55.6)\n",
      "Requirement already satisfied: kiwisolver>=1.3.1 in c:\\users\\bashe\\appdata\\local\\programs\\python\\python312\\lib\\site-packages (from matplotlib) (1.4.8)\n",
      "Requirement already satisfied: pyparsing>=2.3.1 in c:\\users\\bashe\\appdata\\local\\programs\\python\\python312\\lib\\site-packages (from matplotlib) (3.2.1)\n",
      "Requirement already satisfied: python-dateutil>=2.7 in c:\\users\\bashe\\appdata\\roaming\\python\\python312\\site-packages (from matplotlib) (2.9.0.post0)\n",
      "Requirement already satisfied: scipy>=1.11.2 in c:\\users\\bashe\\appdata\\local\\programs\\python\\python312\\lib\\site-packages (from scikit-image) (1.15.1)\n",
      "Requirement already satisfied: imageio!=2.35.0,>=2.33 in c:\\users\\bashe\\appdata\\local\\programs\\python\\python312\\lib\\site-packages (from scikit-image) (2.37.0)\n",
      "Requirement already satisfied: tifffile>=2022.8.12 in c:\\users\\bashe\\appdata\\local\\programs\\python\\python312\\lib\\site-packages (from scikit-image) (2025.1.10)\n",
      "Requirement already satisfied: lazy-loader>=0.4 in c:\\users\\bashe\\appdata\\local\\programs\\python\\python312\\lib\\site-packages (from scikit-image) (0.4)\n",
      "Requirement already satisfied: six>=1.5 in c:\\users\\bashe\\appdata\\roaming\\python\\python312\\site-packages (from python-dateutil>=2.7->matplotlib) (1.17.0)\n",
      "Requirement already satisfied: colorama in c:\\users\\bashe\\appdata\\roaming\\python\\python312\\site-packages (from tqdm>=4.27->transformers) (0.4.6)\n",
      "Requirement already satisfied: zipp>=3.20 in c:\\users\\bashe\\appdata\\local\\programs\\python\\python312\\lib\\site-packages (from importlib-metadata->diffusers) (3.21.0)\n",
      "Requirement already satisfied: MarkupSafe>=2.0 in c:\\users\\bashe\\appdata\\local\\programs\\python\\python312\\lib\\site-packages (from jinja2->torch) (3.0.2)\n",
      "Requirement already satisfied: charset-normalizer<4,>=2 in c:\\users\\bashe\\appdata\\local\\programs\\python\\python312\\lib\\site-packages (from requests->transformers) (3.4.1)\n",
      "Requirement already satisfied: idna<4,>=2.5 in c:\\users\\bashe\\appdata\\local\\programs\\python\\python312\\lib\\site-packages (from requests->transformers) (3.10)\n",
      "Requirement already satisfied: urllib3<3,>=1.21.1 in c:\\users\\bashe\\appdata\\local\\programs\\python\\python312\\lib\\site-packages (from requests->transformers) (2.3.0)\n",
      "Requirement already satisfied: certifi>=2017.4.17 in c:\\users\\bashe\\appdata\\local\\programs\\python\\python312\\lib\\site-packages (from requests->transformers) (2024.12.14)\n",
      "Note: you may need to restart the kernel to use updated packages.\n"
     ]
    }
   ],
   "source": [
    "pip install -U torch torchvision transformers diffusers accelerate matplotlib trimesh numpy scikit-image\n",
    "# install all the requirements"
   ]
  },
  {
   "cell_type": "code",
   "execution_count": 12,
   "metadata": {},
   "outputs": [
    {
     "name": "stdout",
     "output_type": "stream",
     "text": [
      "Looking in indexes: https://download.pytorch.org/whl/cpu\n",
      "Requirement already satisfied: torch in c:\\users\\bashe\\appdata\\local\\programs\\python\\python312\\lib\\site-packages (2.5.1)\n",
      "Requirement already satisfied: torchvision in c:\\users\\bashe\\appdata\\local\\programs\\python\\python312\\lib\\site-packages (0.20.1)\n",
      "Requirement already satisfied: torchaudio in c:\\users\\bashe\\appdata\\local\\programs\\python\\python312\\lib\\site-packages (2.5.1+cpu)\n",
      "Requirement already satisfied: filelock in c:\\users\\bashe\\appdata\\local\\programs\\python\\python312\\lib\\site-packages (from torch) (3.17.0)\n",
      "Requirement already satisfied: typing-extensions>=4.8.0 in c:\\users\\bashe\\appdata\\local\\programs\\python\\python312\\lib\\site-packages (from torch) (4.12.2)\n",
      "Requirement already satisfied: networkx in c:\\users\\bashe\\appdata\\local\\programs\\python\\python312\\lib\\site-packages (from torch) (3.4.2)\n",
      "Requirement already satisfied: jinja2 in c:\\users\\bashe\\appdata\\local\\programs\\python\\python312\\lib\\site-packages (from torch) (3.1.5)\n",
      "Requirement already satisfied: fsspec in c:\\users\\bashe\\appdata\\local\\programs\\python\\python312\\lib\\site-packages (from torch) (2024.12.0)\n",
      "Requirement already satisfied: setuptools in c:\\users\\bashe\\appdata\\local\\programs\\python\\python312\\lib\\site-packages (from torch) (75.8.0)\n",
      "Requirement already satisfied: sympy==1.13.1 in c:\\users\\bashe\\appdata\\local\\programs\\python\\python312\\lib\\site-packages (from torch) (1.13.1)\n",
      "Requirement already satisfied: mpmath<1.4,>=1.1.0 in c:\\users\\bashe\\appdata\\local\\programs\\python\\python312\\lib\\site-packages (from sympy==1.13.1->torch) (1.3.0)\n",
      "Requirement already satisfied: numpy in c:\\users\\bashe\\appdata\\local\\programs\\python\\python312\\lib\\site-packages (from torchvision) (2.2.2)\n",
      "Requirement already satisfied: pillow!=8.3.*,>=5.3.0 in c:\\users\\bashe\\appdata\\local\\programs\\python\\python312\\lib\\site-packages (from torchvision) (11.1.0)\n",
      "Requirement already satisfied: MarkupSafe>=2.0 in c:\\users\\bashe\\appdata\\local\\programs\\python\\python312\\lib\\site-packages (from jinja2->torch) (3.0.2)\n",
      "Note: you may need to restart the kernel to use updated packages.\n"
     ]
    }
   ],
   "source": [
    "pip install torch torchvision torchaudio --index-url https://download.pytorch.org/whl/cpu"
   ]
  },
  {
   "cell_type": "code",
   "execution_count": null,
   "metadata": {},
   "outputs": [
    {
     "name": "stdout",
     "output_type": "stream",
     "text": [
      "Loading model...\n"
     ]
    },
    {
     "name": "stderr",
     "output_type": "stream",
     "text": [
      "c:\\Users\\bashe\\AppData\\Local\\Programs\\Python\\Python312\\Lib\\site-packages\\diffusers\\pipelines\\pipeline_loading_utils.py:242: FutureWarning: You are loading the variant fp16 from stabilityai/stable-diffusion-2-1 via `revision='fp16'` even though you can load it via `variant=`fp16`. Loading model variants via `revision='fp16'` is deprecated and will be removed in diffusers v1. Please use `variant='fp16'` instead.\n",
      "  warnings.warn(\n",
      "Loading pipeline components...:   0%|          | 0/5 [00:00<?, ?it/s]An error occurred while trying to fetch C:\\Users\\bashe\\.cache\\huggingface\\hub\\models--stabilityai--stable-diffusion-2-1\\snapshots\\f7f33030acc57428be85fbec092c37a78231d75a\\unet: Error no file named diffusion_pytorch_model.safetensors found in directory C:\\Users\\bashe\\.cache\\huggingface\\hub\\models--stabilityai--stable-diffusion-2-1\\snapshots\\f7f33030acc57428be85fbec092c37a78231d75a\\unet.\n",
      "Defaulting to unsafe serialization. Pass `allow_pickle=False` to raise an error instead.\n",
      "Loading pipeline components...:  20%|██        | 1/5 [00:01<00:04,  1.17s/it]An error occurred while trying to fetch C:\\Users\\bashe\\.cache\\huggingface\\hub\\models--stabilityai--stable-diffusion-2-1\\snapshots\\f7f33030acc57428be85fbec092c37a78231d75a\\vae: Error no file named diffusion_pytorch_model.safetensors found in directory C:\\Users\\bashe\\.cache\\huggingface\\hub\\models--stabilityai--stable-diffusion-2-1\\snapshots\\f7f33030acc57428be85fbec092c37a78231d75a\\vae.\n",
      "Defaulting to unsafe serialization. Pass `allow_pickle=False` to raise an error instead.\n",
      "Loading pipeline components...: 100%|██████████| 5/5 [00:01<00:00,  2.96it/s]\n",
      "Pipelines loaded with `dtype=torch.float16` cannot run with `cpu` device. It is not recommended to move them to `cpu` as running them will fail. Please make sure to use an accelerator to run the pipeline in inference, due to the lack of support for`float16` operations on this device in PyTorch. Please, remove the `torch_dtype=torch.float16` argument, or use another device for inference.\n",
      "Pipelines loaded with `dtype=torch.float16` cannot run with `cpu` device. It is not recommended to move them to `cpu` as running them will fail. Please make sure to use an accelerator to run the pipeline in inference, due to the lack of support for`float16` operations on this device in PyTorch. Please, remove the `torch_dtype=torch.float16` argument, or use another device for inference.\n",
      "Pipelines loaded with `dtype=torch.float16` cannot run with `cpu` device. It is not recommended to move them to `cpu` as running them will fail. Please make sure to use an accelerator to run the pipeline in inference, due to the lack of support for`float16` operations on this device in PyTorch. Please, remove the `torch_dtype=torch.float16` argument, or use another device for inference.\n"
     ]
    },
    {
     "name": "stdout",
     "output_type": "stream",
     "text": [
      "Generating image...\n"
     ]
    },
    {
     "name": "stderr",
     "output_type": "stream",
     "text": [
      "  2%|▏         | 1/50 [1:14:14<60:38:14, 4454.98s/it]"
     ]
    }
   ],
   "source": [
    "from diffusers import StableDiffusionPipeline\n",
    "import torch\n",
    "\n",
    "# Model configuration: Update to a stable diffusion model if required\n",
    "model_name = \"stabilityai/stable-diffusion-2-1\"  # Replace with an available SD model\n",
    "\n",
    "print(\"Loading model...\")\n",
    "pipe = StableDiffusionPipeline.from_pretrained(\n",
    "    model_name,\n",
    "    torch_dtype=torch.float16,\n",
    "    revision=\"fp16\",\n",
    ").to(\"cpu\")  # Move to GPU for faster inference\n",
    "\n",
    "# Prompt for generating the image\n",
    "prompt = \"A futuristic car design, sleek and aerodynamic, vibrant colors, photorealistic, UHD\"\n",
    "\n",
    "# Generate image\n",
    "print(\"Generating image...\")\n",
    "image = pipe(prompt).images[0]\n",
    "\n",
    "# Save the generated image\n",
    "image.save(\"generated_car_design.png\")\n",
    "print(\"Image saved as 'generated_car_design.png'\")\n"
   ]
  },
  {
   "cell_type": "markdown",
   "metadata": {},
   "source": [
    "## Step 2: Convert Image into Voxel Data\n",
    "\n",
    "**Goal:**  \n",
    "Transform the generated 2D image into a voxel representation for further 3D processing.\n",
    "\n",
    "---\n",
    "\n",
    "### How It Works:\n",
    "\n",
    "#### 1. **Image to Voxel Conversion**\n",
    "- Use tools like **Open3D**, **MeshLab**, or **Matplotlib 3D** for voxel generation.  \n",
    "- For more complex transformations, leverage libraries such as **PyTorch3D** or **Trimesh**.\n",
    "\n",
    "#### 2. **3D Representation**\n",
    "- Map the 2D image onto a **voxel grid**, creating a pixelated 3D representation of the design.  \n",
    "- This ensures compatibility with CAD applications for further design refinement and processing.\n",
    "\n",
    "#### 3. **Optimization**\n",
    "- Smooth or refine the voxel data to remove unnecessary details, ensuring clean and efficient 3D processing.\n",
    "\n",
    "---\n",
    "\n",
    "**Key Benefits:**\n",
    "- Converts 2D visualizations into 3D representations suitable for advanced modeling.\n",
    "- Facilitates seamless integration with CAD tools for design optimization.\n"
   ]
  },
  {
   "cell_type": "code",
   "execution_count": null,
   "metadata": {},
   "outputs": [],
   "source": [
    "import numpy as np\n",
    "import matplotlib.pyplot as plt\n",
    "from PIL import Image\n",
    "from skimage import measure\n",
    "import trimesh\n",
    "\n",
    "# Step 1: Load the image\n",
    "image_path = \"generated_car_design.png\"  # Replace with your image path\n",
    "image = Image.open(image_path).convert(\"L\")  # Convert to grayscale\n",
    "image_array = np.array(image)\n",
    "\n",
    "# Step 2: Normalize and Threshold the Image\n",
    "threshold = 128  # Threshold for voxelization\n",
    "binary_image = (image_array > threshold).astype(np.uint8)\n",
    "\n",
    "# Step 3: Create a Voxel Grid\n",
    "voxel_grid = np.stack([binary_image for _ in range(64)], axis=2)  # Extrude into 3D\n",
    "\n",
    "# Step 4: Visualize the Voxel Grid (Optional)\n",
    "def visualize_voxel(voxels):\n",
    "    fig = plt.figure(figsize=(8, 8))\n",
    "    ax = fig.add_subplot(111, projection='3d')\n",
    "    ax.voxels(voxels, facecolors='blue', edgecolors='gray')\n",
    "    plt.show()\n",
    "\n",
    "visualize_voxel(voxel_grid)\n",
    "\n",
    "# Step 5: Convert to a 3D Mesh (Optional)\n",
    "verts, faces, _, _ = measure.marching_cubes(voxel_grid, level=0)\n",
    "mesh = trimesh.Trimesh(vertices=verts, faces=faces)\n",
    "\n",
    "# Step 6: Save as a 3D File (STL, OBJ, etc.)\n",
    "mesh.export(\"voxelized_car_design.stl\")\n",
    "print(\"Voxel data saved as 'voxelized_car_design.stl'\")\n"
   ]
  },
  {
   "cell_type": "markdown",
   "metadata": {},
   "source": [
    "### **Step 3: Integration with CAD Applications (like PILImage or Blender)**\n",
    "\n",
    "#### **Goal**  \n",
    "Leverage CAD tools for further refinement, prototyping, and production-ready design.\n",
    "\n",
    "---\n",
    "\n",
    "#### **How It Works**  \n",
    "\n",
    "1. **Export Voxel Data to CAD-Compatible Formats:**  \n",
    "   - Convert voxel data into widely-used formats such as `.OBJ`, `.STL`, or `.PLY` for compatibility with CAD software.\n",
    "\n",
    "2. **Integration:**  \n",
    "   - **Use CAD Libraries** for further processing:  \n",
    "     - **Pillow (PIL):** For image manipulation and quick 2D adjustments.  \n",
    "     - **Blender API:** For advanced 3D modeling and visualization.  \n",
    "     - **FreeCAD or Fusion 360:** To create detailed 3D models from voxel data.\n",
    "\n",
    "3. **Refinement Tools:**  \n",
    "   - Add textures, colors, or additional design features using CAD software functionalities.\n",
    "\n",
    "---\n",
    "\n",
    "#### **Outcome**  \n",
    "This step enables seamless refinement of the design, ensuring the product is ready for prototyping or production workflows.\n"
   ]
  },
  {
   "cell_type": "code",
   "execution_count": null,
   "metadata": {},
   "outputs": [],
   "source": [
    "import trimesh\n",
    "\n",
    "# Load the voxelized 3D data or reuse the mesh from Step 2\n",
    "voxel_grid = ...  # Load or create voxel grid here\n",
    "verts, faces, _, _ = measure.marching_cubes(voxel_grid, level=0)\n",
    "mesh = trimesh.Trimesh(vertices=verts, faces=faces)\n",
    "\n",
    "# Export as STL\n",
    "mesh.export(\"voxelized_car_design.stl\")\n",
    "print(\"Voxel file saved as 'voxelized_car_design.stl'\")\n"
   ]
  },
  {
   "cell_type": "markdown",
   "metadata": {},
   "source": [
    "### **Goal: Provide the User with a Polished Image of the Design as the Final Output**\n",
    "\n",
    "---\n",
    "\n",
    "#### **How It Works**\n",
    "\n",
    "1. **Rendering the CAD Model:**  \n",
    "   - Render the refined 3D model into a high-quality image using advanced rendering engines like:  \n",
    "     - **Blender’s Cycles Renderer** for realistic lighting and textures.  \n",
    "     - **CAD's Native Rendering Tools** for streamlined workflows.\n",
    "\n",
    "2. **Output File Formats:**  \n",
    "   - Save the final image in user-friendly formats, such as:  \n",
    "     - **JPEG** or **PNG** for static images.  \n",
    "     - **GIF** for animations or rotating views of the design.\n",
    "\n",
    "---\n",
    "\n",
    "#### **Outcome**  \n",
    "This ensures the user receives a polished, presentation-ready image of their product design, which can be used for demonstrations or feedback purposes.\n"
   ]
  },
  {
   "cell_type": "code",
   "execution_count": null,
   "metadata": {},
   "outputs": [],
   "source": [
    "import FreeCAD\n",
    "import Mesh\n",
    "\n",
    "# Open FreeCAD document\n",
    "doc = FreeCAD.newDocument(\"VoxelDesign\")\n",
    "\n",
    "# Import STL\n",
    "Mesh.insert(\"voxelized_car_design.stl\", doc.Name)\n",
    "\n",
    "# Save as a FreeCAD-compatible file\n",
    "doc.saveAs(\"voxel_design.FCStd\")\n",
    "print(\"Saved as 'voxel_design.FCStd'\")\n"
   ]
  },
  {
   "cell_type": "markdown",
   "metadata": {},
   "source": [
    "### **Step 5: Visualization and Refinement**\n",
    "\n",
    "---\n",
    "\n",
    "#### **How It Works**\n",
    "\n",
    "1. **Enhancements in CAD Software:**  \n",
    "   - Add **dimensions**, **labels**, or **constraints** to finalize the design.  \n",
    "   - Adjust proportions and ensure all specifications meet the intended requirements.\n",
    "\n",
    "2. **Realistic Visualization:**  \n",
    "   - Use rendering tools, such as **Blender's Cycles Renderer**, to create photorealistic visualizations of the design.  \n",
    "   - Add materials, textures, and lighting for a professional finish.\n",
    "\n",
    "3. **Preparing for 3D Printing:**  \n",
    "   - Validate the mesh structure to ensure it is error-free and 3D-print ready.  \n",
    "   - Check for issues like non-manifold edges, holes, or intersecting faces.  \n",
    "\n",
    "---\n",
    "\n",
    "#### **Outcome**  \n",
    "The refined design is ready for visualization, presentation, and further prototyping, including 3D printing.\n"
   ]
  },
  {
   "cell_type": "code",
   "execution_count": null,
   "metadata": {},
   "outputs": [],
   "source": [
    "import bpy\n",
    "\n",
    "# Import the STL file into Blender\n",
    "bpy.ops.import_mesh.stl(filepath=\"voxelized_car_design.stl\")\n",
    "\n",
    "# Save the file as a Blender project\n",
    "bpy.ops.wm.save_as_mainfile(filepath=\"voxel_design.blend\")\n",
    "print(\"Saved as 'voxel_design.blend'\")"
   ]
  },
  {
   "cell_type": "markdown",
   "metadata": {},
   "source": []
  }
 ],
 "metadata": {
  "kernelspec": {
   "display_name": "Python 3",
   "language": "python",
   "name": "python3"
  },
  "language_info": {
   "codemirror_mode": {
    "name": "ipython",
    "version": 3
   },
   "file_extension": ".py",
   "mimetype": "text/x-python",
   "name": "python",
   "nbconvert_exporter": "python",
   "pygments_lexer": "ipython3",
   "version": "3.12.1"
  }
 },
 "nbformat": 4,
 "nbformat_minor": 2
}
